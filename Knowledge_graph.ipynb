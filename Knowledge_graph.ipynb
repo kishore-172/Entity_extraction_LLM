{
 "cells": [
  {
   "cell_type": "code",
   "execution_count": 11,
   "id": "ad2613da-5f7c-42d8-b560-8defc1b0ec57",
   "metadata": {},
   "outputs": [],
   "source": [
    "from dotenv import load_dotenv\n",
    "import os\n",
    "\n",
    "from langchain_community.graphs import Neo4jGraph\n",
    "open_ai_key=os.getenv('sk-proj-h3g9LyF9UZZ9AJI6ZgxKT3BlbkFJJlO0xAU6eHfyjXn52wDV')\n",
    "# Warning control\n",
    "import warnings\n",
    "warnings.filterwarnings(\"ignore\")"
   ]
  },
  {
   "cell_type": "code",
   "execution_count": 14,
   "id": "f6ab5ec2-2569-418d-8f86-1dea82cd4b08",
   "metadata": {},
   "outputs": [],
   "source": [
    "from langchain.docstore.document import Document\n",
    "from langchain.text_splitter import CharacterTextSplitter\n",
    "from langchain_community.document_loaders import TextLoader\n",
    "from langchain_community.vectorstores import Neo4jVector\n",
    "from langchain_openai import OpenAIEmbeddings\n",
    "\n",
    "file_path = 'state_of_the_union.txt'\n",
    "\n",
    "# Attempt to load the file with different encodings\n",
    "def load_file_with_encoding(file_path, encoding, errors=None):\n",
    "    try:\n",
    "        with open(file_path, 'r', encoding=encoding, errors=errors) as file:\n",
    "            data = file.read()\n",
    "        return data\n",
    "    except UnicodeDecodeError as e:\n",
    "        print(f\"Failed to decode with {encoding}: {e}\")\n",
    "        return None\n",
    "\n",
    "# Try reading with utf-8 encoding first\n",
    "data = load_file_with_encoding(file_path, 'utf-8')\n",
    "\n",
    "# If it fails, try with latin-1 encoding\n",
    "if data is None:\n",
    "    data = load_file_with_encoding(file_path, 'latin-1')\n",
    "\n",
    "# If it still fails, try ignoring errors\n",
    "if data is None:\n",
    "    data = load_file_with_encoding(file_path, 'utf-8', errors='ignore')\n",
    "\n",
    "# If data is successfully read, create documents\n",
    "if data:\n",
    "    documents = [Document(page_content=data)]\n",
    "else:\n",
    "    print(\"Failed to load the file with all attempted encodings.\")\n",
    "    documents = []\n",
    "\n",
    "# Split documents into chunks\n",
    "text_splitter = CharacterTextSplitter(chunk_size=1000, chunk_overlap=0)\n",
    "docs = text_splitter.split_documents(documents)\n",
    "\n",
    "# Set your OpenAI API key here\n",
    "openai_api_key = \"sk-proj-h3g9LyF9UZZ9AJI6ZgxKT3BlbkFJJlO0xAU6eHfyjXn52wDV\"\n",
    "\n",
    "\n"
   ]
  },
  {
   "cell_type": "code",
   "execution_count": 17,
   "id": "ee26197a-179a-4fc7-8be8-fec49fb480c4",
   "metadata": {},
   "outputs": [
    {
     "ename": "NameError",
     "evalue": "name 'url' is not defined",
     "output_type": "error",
     "traceback": [
      "\u001b[1;31m---------------------------------------------------------------------------\u001b[0m",
      "\u001b[1;31mNameError\u001b[0m                                 Traceback (most recent call last)",
      "Cell \u001b[1;32mIn[17], line 4\u001b[0m\n\u001b[0;32m      1\u001b[0m \u001b[38;5;66;03m# The Neo4jVector Module will connect to Neo4j and create a vector index if needed.\u001b[39;00m\n\u001b[0;32m      3\u001b[0m db \u001b[38;5;241m=\u001b[39m Neo4jVector\u001b[38;5;241m.\u001b[39mfrom_documents(\n\u001b[1;32m----> 4\u001b[0m     docs, OpenAIEmbeddings(openai_api_key\u001b[38;5;241m=\u001b[39mopenai_api_key), url\u001b[38;5;241m=\u001b[39murl, username\u001b[38;5;241m=\u001b[39musername, password\u001b[38;5;241m=\u001b[39mpassword\n\u001b[0;32m      5\u001b[0m )\n\u001b[0;32m      7\u001b[0m \u001b[38;5;66;03m# Define Neo4j connection details (replace with your actual details)\u001b[39;00m\n\u001b[0;32m      8\u001b[0m url \u001b[38;5;241m=\u001b[39m \u001b[38;5;124m'\u001b[39m\u001b[38;5;124mbolt://localhost:7687\u001b[39m\u001b[38;5;124m'\u001b[39m\n",
      "\u001b[1;31mNameError\u001b[0m: name 'url' is not defined"
     ]
    }
   ],
   "source": [
    "\n",
    "\n",
    "# The Neo4jVector Module will connect to Neo4j and create a vector index if needed.\n",
    "\n",
    "db = Neo4jVector.from_documents(\n",
    "    docs, OpenAIEmbeddings(openai_api_key=openai_api_key), url=url, username=username, password=password\n",
    ")\n",
    "\n",
    "# Define Neo4j connection details (replace with your actual details)\n",
    "url = 'neo4j://localhost:7687'\n",
    "username = 'neo4j'\n",
    "password = 'password'\n",
    "\n",
    "# Connect to Neo4j and create a vector index if needed\n",
    "db = Neo4jVector.from_documents(\n",
    "    docs, embeddings, url=url, username=username, password=password\n",
    ")\n",
    "\n",
    "# Perform similarity search with score\n",
    "query = \"What did the president say about Ketanji Brown Jackson\"\n",
    "docs_with_score = db.similarity_search_with_score(query, k=2)\n",
    "\n",
    "# Output results\n",
    "for doc, score in docs_with_score:\n",
    "    print(f\"Score: {score}\\nDocument: {doc.page_content}\\n\")\n",
    "query = \"What did the president say about Ketanji Brown Jackson\"\n",
    "docs_with_score = db.similarity_search_with_score(query, k=2)"
   ]
  },
  {
   "cell_type": "code",
   "execution_count": null,
   "id": "e17dba33-f7f5-4278-814d-11c44683401f",
   "metadata": {},
   "outputs": [],
   "source": []
  }
 ],
 "metadata": {
  "kernelspec": {
   "display_name": "Python 3 (ipykernel)",
   "language": "python",
   "name": "python3"
  },
  "language_info": {
   "codemirror_mode": {
    "name": "ipython",
    "version": 3
   },
   "file_extension": ".py",
   "mimetype": "text/x-python",
   "name": "python",
   "nbconvert_exporter": "python",
   "pygments_lexer": "ipython3",
   "version": "3.11.7"
  }
 },
 "nbformat": 4,
 "nbformat_minor": 5
}
